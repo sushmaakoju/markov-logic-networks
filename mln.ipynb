{
  "nbformat": 4,
  "nbformat_minor": 0,
  "metadata": {
    "colab": {
      "name": "mln.ipynb",
      "provenance": [],
      "collapsed_sections": []
    },
    "kernelspec": {
      "name": "python3",
      "display_name": "Python 3"
    },
    "language_info": {
      "name": "python"
    }
  },
  "cells": [
    {
      "cell_type": "markdown",
      "metadata": {
        "id": "Ftno2mt0EEpw"
      },
      "source": [
        "### Goal: To learn about Markov Logic Networks\n",
        "[Markov Logic Networks](https://cacm.acm.org/magazines/2019/7/237715-unifying-logical-and-statistical-ai-with-markov-logic/fulltext)\n"
      ]
    },
    {
      "cell_type": "code",
      "metadata": {
        "id": "uL0FXbRjlvag"
      },
      "source": [
        "import numpy as np\n",
        "import pandas as pd\n",
        "from scipy.special import logsumexp\n",
        "from itertools import product"
      ],
      "execution_count": null,
      "outputs": []
    },
    {
      "cell_type": "markdown",
      "metadata": {
        "id": "n87FpXAC-mqX"
      },
      "source": [
        "## Markov Logic Networks:\n",
        "#### A Markov logic network (MLN) is a set of weighted first-order formulas, viewed as templates for constructing Markov networks.\n",
        "#### Markov network (also known as Markov random field) represents a joint probability distribution over variables X = {X1, X2, ..., Xn} as a product of factors (also known as potential functions):\n",
        "![formula1.gif](data:image/gif;base64,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)\n",
        "\n",
        "#### where each C is a nonnegative, real-valued function defined over variables X$_C$ ⊂ X and Z is a normalization constant known as the partition function. For convenience, we also define Φ(x) as the unnormalized probability distribution, the product of all potential functions. A Markov network can be represented as a graph with one node per variable and an undirected edge between any two variables that appear together in the same factor.\n",
        "\n",
        "#### Markov networks are often conveniently represented as log-linear models, with each potential function replaced by an exponentiated weighted sum of features of the state, leading to\n",
        "\n",
        "![formula2.gif](data:image/gif;base64,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)"
      ]
    },
    {
      "cell_type": "markdown",
      "metadata": {
        "id": "i2-6EfyEIGTn"
      },
      "source": [
        "### Formal Definition \n",
        "#### A Markov logic network (MLN) L is a set of pairs (F$_i$, w$_i$), where F$_i$ is a formula in first-order logic and w$_i$ is a real number. Together with a finite set of constants C = {c$_1$, c$_2$, ..., c$_|$$_c$$_|$}, it defines a Markov network M$_L$$,$$_C$ (Equations 1 and 2) as follows:\n",
        "\n",
        "M$_L$$,$$_C$ contains one random variable for each possible grounding of each atom appearing in L. The value of the variable is true if the ground atom is true and false otherwise.\n",
        "\n",
        "M$_L$$,$$_C$ contains one feature for each possible grounding of each formula F$_i$ in L. The value of this feature is 1 if the ground formula is true and 0 otherwise. The weight of the feature is the wi associated with F$_i$ in L."
      ]
    },
    {
      "cell_type": "markdown",
      "metadata": {
        "id": "KWeSQZF9KGJK"
      },
      "source": [
        "#### Define First Order Logic representation\n",
        "##### Define weights and predicates\n",
        "##### Assumptions: \n",
        " - weight= 1.5 predicate: ∀x, smokes(x) => cancer(x)\n",
        " - weight= 1.1 predicate: ∀x,y friends(x,y) => ( smokes(x) ⇔ cancer(x) )\n",
        "\n",
        "##### Ground Atoms:\n",
        "Alice (A) and Bob (B)\n",
        "Smokes(A), Smokes(B), Cancer(A), Cancer(B)\n",
        "Friends(A,B) Friends(B,A) Friends(A,A) Friends(B,B)"
      ]
    },
    {
      "cell_type": "markdown",
      "metadata": {
        "id": "5sNtahxsDv5E"
      },
      "source": [
        "### Example\n",
        " - Smoking causes cancer\n",
        " - Friends have similar habits\n",
        "\n",
        "#### Constants C = {c$_1$, c$_2$, ..., c$_|$$_c$$_|$}"
      ]
    },
    {
      "cell_type": "code",
      "metadata": {
        "id": "hrfzKtI4-KLw"
      },
      "source": [
        "constants = ['A', 'B']\n",
        "predicates = [('Smokes', 1), ('Cancer', 1), ('Friends', 2)]"
      ],
      "execution_count": null,
      "outputs": []
    },
    {
      "cell_type": "code",
      "metadata": {
        "colab": {
          "base_uri": "https://localhost:8080/"
        },
        "id": "pd4QSgiiAHNA",
        "outputId": "78ba35c2-9b6b-4093-89ba-59257bf86ff1"
      },
      "source": [
        "ground_atoms = [ \n",
        "                (p, *args) \n",
        "                for p, arity in predicates\n",
        "                for args in product(constants, repeat=arity)]\n",
        "print(\"*****************Ground Atoms**************888\")\n",
        "print(ground_atoms)"
      ],
      "execution_count": null,
      "outputs": [
        {
          "output_type": "stream",
          "name": "stdout",
          "text": [
            "*****************Ground Atoms**************888\n",
            "[('Smokes', 'A'), ('Smokes', 'B'), ('Cancer', 'A'), ('Cancer', 'B'), ('Friends', 'A', 'A'), ('Friends', 'A', 'B'), ('Friends', 'B', 'A'), ('Friends', 'B', 'B')]\n"
          ]
        }
      ]
    },
    {
      "cell_type": "markdown",
      "metadata": {
        "id": "OmnMd_r1DN5R"
      },
      "source": [
        "#### L: set of formula weight pairs"
      ]
    },
    {
      "cell_type": "code",
      "metadata": {
        "colab": {
          "base_uri": "https://localhost:8080/"
        },
        "id": "qClnRP8RAp_A",
        "outputId": "3f4a50ff-6365-4e8e-e85c-9dcf73c5a8d4"
      },
      "source": [
        "formulas = [\n",
        "            ([('Smokes',(0,)), ('Cancer',(0,))], [1,0], 1, 1.5 ),\n",
        "            ([('Friends', (0,1)), ('Smokes',(0,)), ('Smokes',(1,))], [ 1, 0, 1], 2, 1.1),\n",
        "            ([('Friends', (0,1)), ('Smokes',(0,)), ('Smokes',(1,))], [ 1, 1, 0], 2, 1.1),\n",
        "]\n",
        "formulas"
      ],
      "execution_count": null,
      "outputs": [
        {
          "output_type": "execute_result",
          "data": {
            "text/plain": [
              "[([('Smokes', (0,)), ('Cancer', (0,))], [1, 0], 1, 1.5),\n",
              " ([('Friends', (0, 1)), ('Smokes', (0,)), ('Smokes', (1,))],\n",
              "  [1, 0, 1],\n",
              "  2,\n",
              "  1.1),\n",
              " ([('Friends', (0, 1)), ('Smokes', (0,)), ('Smokes', (1,))],\n",
              "  [1, 1, 0],\n",
              "  2,\n",
              "  1.1)]"
            ]
          },
          "metadata": {},
          "execution_count": 64
        }
      ]
    },
    {
      "cell_type": "code",
      "metadata": {
        "id": "UbCtzvNkBV54"
      },
      "source": [
        "grounded_formulas = []\n",
        "for clauses, neg, arity, w in formulas:\n",
        "  for args in product(constants, repeat=arity):\n",
        "    ground_formula = [\n",
        "        (p, *map(lambda i: args[i], v))\n",
        "        for p,v in clauses\n",
        "    ]\n",
        "    grounded_formulas.append((ground_formula, neg, w))"
      ],
      "execution_count": null,
      "outputs": []
    },
    {
      "cell_type": "code",
      "metadata": {
        "colab": {
          "base_uri": "https://localhost:8080/"
        },
        "id": "0O7HmCxMCiJv",
        "outputId": "05dc99e6-140e-4902-9836-24bd2d4fe2d1"
      },
      "source": [
        "print(\"****************Grounded Formulas**********************\")\n",
        "print(grounded_formulas)"
      ],
      "execution_count": null,
      "outputs": [
        {
          "output_type": "stream",
          "name": "stdout",
          "text": [
            "****************Grounded Formulas**********************\n",
            "[([('Smokes', 'A'), ('Cancer', 'A')], [1, 0], 1.5), ([('Smokes', 'B'), ('Cancer', 'B')], [1, 0], 1.5), ([('Friends', 'A', 'A'), ('Smokes', 'A'), ('Smokes', 'A')], [1, 0, 1], 1.1), ([('Friends', 'A', 'B'), ('Smokes', 'A'), ('Smokes', 'B')], [1, 0, 1], 1.1), ([('Friends', 'B', 'A'), ('Smokes', 'B'), ('Smokes', 'A')], [1, 0, 1], 1.1), ([('Friends', 'B', 'B'), ('Smokes', 'B'), ('Smokes', 'B')], [1, 0, 1], 1.1), ([('Friends', 'A', 'A'), ('Smokes', 'A'), ('Smokes', 'A')], [1, 1, 0], 1.1), ([('Friends', 'A', 'B'), ('Smokes', 'A'), ('Smokes', 'B')], [1, 1, 0], 1.1), ([('Friends', 'B', 'A'), ('Smokes', 'B'), ('Smokes', 'A')], [1, 1, 0], 1.1), ([('Friends', 'B', 'B'), ('Smokes', 'B'), ('Smokes', 'B')], [1, 1, 0], 1.1)]\n"
          ]
        }
      ]
    },
    {
      "cell_type": "markdown",
      "metadata": {
        "id": "rWwx4o3DHbLi"
      },
      "source": [
        "#### Generate the all possible worlds\n",
        "#### M$_L$$,$$_C$"
      ]
    },
    {
      "cell_type": "code",
      "metadata": {
        "colab": {
          "base_uri": "https://localhost:8080/",
          "height": 223
        },
        "id": "gBh7Cv8aCtwY",
        "outputId": "6195bbb9-77b5-4f35-fe03-e17d390073d7"
      },
      "source": [
        "# Generate the all possible worlds\n",
        "X = pd.DataFrame(columns=ground_atoms, data=list(product([1,0], repeat=len(ground_atoms))))\n",
        "X.head()"
      ],
      "execution_count": null,
      "outputs": [
        {
          "output_type": "execute_result",
          "data": {
            "text/html": [
              "<div>\n",
              "<style scoped>\n",
              "    .dataframe tbody tr th:only-of-type {\n",
              "        vertical-align: middle;\n",
              "    }\n",
              "\n",
              "    .dataframe tbody tr th {\n",
              "        vertical-align: top;\n",
              "    }\n",
              "\n",
              "    .dataframe thead th {\n",
              "        text-align: right;\n",
              "    }\n",
              "</style>\n",
              "<table border=\"1\" class=\"dataframe\">\n",
              "  <thead>\n",
              "    <tr style=\"text-align: right;\">\n",
              "      <th></th>\n",
              "      <th>(Smokes, A)</th>\n",
              "      <th>(Smokes, B)</th>\n",
              "      <th>(Cancer, A)</th>\n",
              "      <th>(Cancer, B)</th>\n",
              "      <th>(Friends, A, A)</th>\n",
              "      <th>(Friends, A, B)</th>\n",
              "      <th>(Friends, B, A)</th>\n",
              "      <th>(Friends, B, B)</th>\n",
              "    </tr>\n",
              "  </thead>\n",
              "  <tbody>\n",
              "    <tr>\n",
              "      <th>0</th>\n",
              "      <td>1</td>\n",
              "      <td>1</td>\n",
              "      <td>1</td>\n",
              "      <td>1</td>\n",
              "      <td>1</td>\n",
              "      <td>1</td>\n",
              "      <td>1</td>\n",
              "      <td>1</td>\n",
              "    </tr>\n",
              "    <tr>\n",
              "      <th>1</th>\n",
              "      <td>1</td>\n",
              "      <td>1</td>\n",
              "      <td>1</td>\n",
              "      <td>1</td>\n",
              "      <td>1</td>\n",
              "      <td>1</td>\n",
              "      <td>1</td>\n",
              "      <td>0</td>\n",
              "    </tr>\n",
              "    <tr>\n",
              "      <th>2</th>\n",
              "      <td>1</td>\n",
              "      <td>1</td>\n",
              "      <td>1</td>\n",
              "      <td>1</td>\n",
              "      <td>1</td>\n",
              "      <td>1</td>\n",
              "      <td>0</td>\n",
              "      <td>1</td>\n",
              "    </tr>\n",
              "    <tr>\n",
              "      <th>3</th>\n",
              "      <td>1</td>\n",
              "      <td>1</td>\n",
              "      <td>1</td>\n",
              "      <td>1</td>\n",
              "      <td>1</td>\n",
              "      <td>1</td>\n",
              "      <td>0</td>\n",
              "      <td>0</td>\n",
              "    </tr>\n",
              "    <tr>\n",
              "      <th>4</th>\n",
              "      <td>1</td>\n",
              "      <td>1</td>\n",
              "      <td>1</td>\n",
              "      <td>1</td>\n",
              "      <td>1</td>\n",
              "      <td>0</td>\n",
              "      <td>1</td>\n",
              "      <td>1</td>\n",
              "    </tr>\n",
              "  </tbody>\n",
              "</table>\n",
              "</div>"
            ],
            "text/plain": [
              "   (Smokes, A)  (Smokes, B)  ...  (Friends, B, A)  (Friends, B, B)\n",
              "0            1            1  ...                1                1\n",
              "1            1            1  ...                1                0\n",
              "2            1            1  ...                0                1\n",
              "3            1            1  ...                0                0\n",
              "4            1            1  ...                1                1\n",
              "\n",
              "[5 rows x 8 columns]"
            ]
          },
          "metadata": {},
          "execution_count": 67
        }
      ]
    },
    {
      "cell_type": "markdown",
      "metadata": {
        "id": "39SmgJAyKjEY"
      },
      "source": [
        "#### An MLN can be viewed as a template for constructing Markov networks. From Definition 1 and Equations 1 and 2, the probability distribution over possible worlds x specified by the ground Markov network ML, C is given by\n",
        "\n",
        "![formula5.gif](data:image/gif;base64,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)"
      ]
    },
    {
      "cell_type": "code",
      "metadata": {
        "colab": {
          "base_uri": "https://localhost:8080/"
        },
        "id": "fe8PdWE-DIpT",
        "outputId": "85b49e2a-e436-41c3-e7d5-8e963e0f9d2c"
      },
      "source": [
        "S = np.zeros(len(X))\n",
        "for f, neg, w in grounded_formulas:\n",
        "  S += w * np.logical_xor(X[f], neg).any(1)"
      ],
      "execution_count": null,
      "outputs": [
        {
          "output_type": "stream",
          "name": "stderr",
          "text": [
            "/usr/local/lib/python3.7/dist-packages/numpy/core/_asarray.py:83: VisibleDeprecationWarning: Creating an ndarray from ragged nested sequences (which is a list-or-tuple of lists-or-tuples-or ndarrays with different lengths or shapes) is deprecated. If you meant to do this, you must specify 'dtype=object' when creating the ndarray\n",
            "  return array(a, dtype, copy=False, order=order)\n"
          ]
        }
      ]
    },
    {
      "cell_type": "code",
      "metadata": {
        "id": "uXfMzDYlOAa4"
      },
      "source": [
        "#partition function\n",
        "logZ = logsumexp(S)"
      ],
      "execution_count": null,
      "outputs": []
    },
    {
      "cell_type": "code",
      "metadata": {
        "colab": {
          "base_uri": "https://localhost:8080/"
        },
        "id": "EZdH6z4OE5C2",
        "outputId": "aee737bf-0454-45fe-c0ab-29536eb41f28"
      },
      "source": [
        "#joint probability\n",
        "joint_probability = X.copy()\n",
        "joint_probability['logP'] = S - logZ\n",
        "print(\"***********Joint Probability*********************\")\n",
        "print(joint_probability)"
      ],
      "execution_count": null,
      "outputs": [
        {
          "output_type": "stream",
          "name": "stdout",
          "text": [
            "***********Joint Probability*********************\n",
            "     (Smokes, A)  (Smokes, B)  ...  (Friends, B, B)      logP\n",
            "0              1            1  ...                1 -4.809774\n",
            "1              1            1  ...                0 -4.809774\n",
            "2              1            1  ...                1 -4.809774\n",
            "3              1            1  ...                0 -4.809774\n",
            "4              1            1  ...                1 -4.809774\n",
            "..           ...          ...  ...              ...       ...\n",
            "251            0            0  ...                0 -4.809774\n",
            "252            0            0  ...                1 -4.809774\n",
            "253            0            0  ...                0 -4.809774\n",
            "254            0            0  ...                1 -4.809774\n",
            "255            0            0  ...                0 -4.809774\n",
            "\n",
            "[256 rows x 9 columns]\n"
          ]
        }
      ]
    },
    {
      "cell_type": "code",
      "metadata": {
        "colab": {
          "base_uri": "https://localhost:8080/"
        },
        "id": "q6Bp-diEFmRe",
        "outputId": "ba4cc1cc-23bd-4337-a6e4-a378750aa3ed"
      },
      "source": [
        "print(\"*********P(Friends(A,B))****************\")\n",
        "P_Friends_AB = np.exp(joint_probability.groupby([('Friends', 'A', 'B')])['logP'].agg(logsumexp))\n",
        "print(P_Friends_AB)"
      ],
      "execution_count": null,
      "outputs": [
        {
          "output_type": "stream",
          "name": "stdout",
          "text": [
            "*********P(Friends(A,B))****************\n",
            "(Friends, A, B)\n",
            "0    0.570909\n",
            "1    0.429091\n",
            "Name: logP, dtype: float64\n"
          ]
        }
      ]
    },
    {
      "cell_type": "markdown",
      "metadata": {
        "id": "aHzeDpeyqKBB"
      },
      "source": [
        "\n",
        "#### Discriminative learning optimizes our ability to predict the query atoms Y given the evidence X. A common approach is to maximize the conditional likelihood of Y given X, and F$_i$ is set of all MLN formulas with at least one grounding involving a query atom, and n$_i$ (x, y) is the number of true groundings of the ith formula involving query atoms\n",
        "![formula5.gif](data:image/gif;base64,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)"
      ]
    },
    {
      "cell_type": "code",
      "metadata": {
        "colab": {
          "base_uri": "https://localhost:8080/"
        },
        "id": "yghwT4gBFmfr",
        "outputId": "080c45a5-872c-4370-8e16-501070edff40"
      },
      "source": [
        "print(\"*********P(Friends(A,B)|Smokes(A))****************\")\n",
        "P_Friends_AB_SmA = np.exp(joint_probability.groupby([('Smokes','A'),('Friends', 'A', 'B')])['logP'].agg(logsumexp))\n",
        "P_SmA = np.exp(joint_probability.groupby([('Smokes','A')])['logP'].agg(logsumexp))\n",
        "print(P_Friends_AB_SmA/P_SmA)"
      ],
      "execution_count": null,
      "outputs": [
        {
          "output_type": "stream",
          "name": "stdout",
          "text": [
            "*********P(Friends(A,B)|Smokes(A))****************\n",
            "(Smokes, A)  (Friends, A, B)\n",
            "0            0                  0.553456\n",
            "             1                  0.446544\n",
            "1            0                  0.605285\n",
            "             1                  0.394715\n",
            "Name: logP, dtype: float64\n"
          ]
        }
      ]
    },
    {
      "cell_type": "code",
      "metadata": {
        "colab": {
          "base_uri": "https://localhost:8080/"
        },
        "id": "awrvWg7H4cJS",
        "outputId": "b8d10945-778e-4540-f8d3-081953969f04"
      },
      "source": [
        "len(joint_probability)"
      ],
      "execution_count": null,
      "outputs": [
        {
          "output_type": "execute_result",
          "data": {
            "text/plain": [
              "256"
            ]
          },
          "metadata": {},
          "execution_count": 82
        }
      ]
    }
  ]
}